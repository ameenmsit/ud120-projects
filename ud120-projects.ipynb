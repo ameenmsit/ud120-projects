{
  "nbformat": 4,
  "nbformat_minor": 0,
  "metadata": {
    "colab": {
      "name": "Untitled0.ipynb",
      "provenance": [],
      "authorship_tag": "ABX9TyPhjTcNowXmn6hhGIhKr0WT",
      "include_colab_link": true
    },
    "kernelspec": {
      "name": "python3",
      "display_name": "Python 3"
    },
    "language_info": {
      "name": "python"
    }
  },
  "cells": [
    {
      "cell_type": "markdown",
      "metadata": {
        "id": "view-in-github",
        "colab_type": "text"
      },
      "source": [
        "<a href=\"https://colab.research.google.com/github/ameenmsit/ud120-projects/blob/main/ud120-projects.ipynb\" target=\"_parent\"><img src=\"https://colab.research.google.com/assets/colab-badge.svg\" alt=\"Open In Colab\"/></a>"
      ]
    },
    {
      "cell_type": "code",
      "execution_count": 1,
      "metadata": {
        "colab": {
          "base_uri": "https://localhost:8080/"
        },
        "id": "42khhx0GzfPv",
        "outputId": "b93bb5ac-8e04-4f76-f02d-d2ebe2dec839"
      },
      "outputs": [
        {
          "output_type": "stream",
          "name": "stdout",
          "text": [
            "Cloning into 'ud120-projects'...\n",
            "remote: Enumerating objects: 5170, done.\u001b[K\n",
            "remote: Counting objects: 100% (91/91), done.\u001b[K\n",
            "remote: Compressing objects: 100% (49/49), done.\u001b[K\n",
            "remote: Total 5170 (delta 37), reused 70 (delta 30), pack-reused 5079\u001b[K\n",
            "Receiving objects: 100% (5170/5170), 19.67 MiB | 20.49 MiB/s, done.\n",
            "Resolving deltas: 100% (4431/4431), done.\n"
          ]
        }
      ],
      "source": [
        "!git clone \"https://github.com/udacity/ud120-projects.git\""
      ]
    },
    {
      "cell_type": "code",
      "source": [
        "from google.colab import drive\n",
        "drive.mount('/content/drive')"
      ],
      "metadata": {
        "id": "IyuA83Fe0R95"
      },
      "execution_count": null,
      "outputs": []
    }
  ]
}